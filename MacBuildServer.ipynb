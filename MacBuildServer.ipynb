{
 "cells": [
  {
   "cell_type": "code",
   "execution_count": 51,
   "metadata": {},
   "outputs": [],
   "source": [
    "import pandas as pd\n",
    "import apiclient.discovery\n",
    "import httplib2\n",
    "from oauth2client.service_account import ServiceAccountCredentials"
   ]
  },
  {
   "cell_type": "code",
   "execution_count": 52,
   "metadata": {},
   "outputs": [],
   "source": [
    "# коннектимся и забираем данные из таблиц\n",
    "\n",
    "creds_file    = '/Users/roman/Documents/MacBuildServer/creds.json'\n",
    "\n",
    "credentials   = ServiceAccountCredentials.from_json_keyfile_name(creds_file, ['https://www.googleapis.com/auth/spreadsheets', 'https://www.googleapis.com/auth/drive'])\n",
    "httpAuth      = credentials.authorize(httplib2.Http())\n",
    "service       = apiclient.discovery.build('sheets', 'v4', http = httpAuth)\n",
    "\n",
    "spreadsheetId = '1Ycg7zTxds9DZnDvTrFcyNNKuTUxg6Yy6WF0a8Wc02WQ'\n",
    "\n",
    "transactions_ = service.spreadsheets().values().get(spreadsheetId=spreadsheetId, range='transactions!A:D').execute()\n",
    "clients_      = service.spreadsheets().values().get(spreadsheetId=spreadsheetId, range='clients!A:C').execute()\n",
    "managers_     = service.spreadsheets().values().get(spreadsheetId=spreadsheetId, range='managers!A:C').execute()\n",
    "leads_        = service.spreadsheets().values().get(spreadsheetId=spreadsheetId, range='leads!A:F').execute()"
   ]
  },
  {
   "cell_type": "code",
   "execution_count": 53,
   "metadata": {},
   "outputs": [],
   "source": [
    "# собираем фрейм транзакций\n",
    "\n",
    "transaction_id = []\n",
    "created_at = [] \n",
    "m_real_amount = []\n",
    "l_client_id = []\n",
    "\n",
    "for i in transactions_['values'][1:]:\n",
    "    transaction_id.append(i[0])\n",
    "    created_at.append(i[1])\n",
    "    m_real_amount.append(i[2])\n",
    "    l_client_id.append(i[3])\n",
    "    \n",
    "transactions = pd.DataFrame(list(zip(transaction_id, created_at, m_real_amount,l_client_id)),columns=[ \n",
    "                                                transactions_['values'][0][0],\n",
    "                                                transactions_['values'][0][1],\n",
    "                                                transactions_['values'][0][2],\n",
    "                                                transactions_['values'][0][3]])"
   ]
  },
  {
   "cell_type": "code",
   "execution_count": 54,
   "metadata": {
    "scrolled": true
   },
   "outputs": [],
   "source": [
    "# собираем фрейм клиентов\n",
    "\n",
    "client_id = []\n",
    "created_at = [] \n",
    "l_manager_id = []\n",
    "\n",
    "for i in clients_['values'][1:]:\n",
    "    if len(i) == 3: # обрабатываем истории, где в created_at и l_manager_id отсутствуют значения. \n",
    "                    # Пример: clients_['values'][5893]\n",
    "                    # Убираем таких клиентов, т.к. по ним нет дополнительной инфы\n",
    "        client_id.append(i[0])\n",
    "        created_at.append(i[1])\n",
    "        l_manager_id.append(i[2])\n",
    "    continue\n",
    "    \n",
    "clients = pd.DataFrame(list(zip(client_id, created_at, l_manager_id)),columns=[ \n",
    "                                                clients_['values'][0][0],\n",
    "                                                clients_['values'][0][1],\n",
    "                                                clients_['values'][0][2]])"
   ]
  },
  {
   "cell_type": "code",
   "execution_count": 55,
   "metadata": {},
   "outputs": [],
   "source": [
    "# собираем фрейм менеджеров\n",
    "\n",
    "manager_id = []\n",
    "d_manager = [] \n",
    "d_club = []\n",
    "\n",
    "for i in managers_['values'][1:]:\n",
    "        manager_id.append(i[0])\n",
    "        d_manager.append(i[1])\n",
    "        d_club.append(i[2])\n",
    "    \n",
    "managers = pd.DataFrame(list(zip(manager_id, d_manager, d_club)),columns=[ \n",
    "                                                managers_['values'][0][0],\n",
    "                                                managers_['values'][0][1],\n",
    "                                                managers_['values'][0][2]])"
   ]
  },
  {
   "cell_type": "code",
   "execution_count": 56,
   "metadata": {},
   "outputs": [],
   "source": [
    "# собираем фрейм заявок\n",
    "\n",
    "lead_id = []\n",
    "created_at = [] \n",
    "d_utm_medium = []\n",
    "d_utm_source = []\n",
    "l_manager_id = []\n",
    "l_client_id = []\n",
    "\n",
    "for i in leads_['values'][1:]:\n",
    "    lead_id.append(i[0])\n",
    "    created_at.append(i[1])\n",
    "    d_utm_medium.append(i[2])\n",
    "    d_utm_source.append(i[3])\n",
    "    l_manager_id.append(i[4])\n",
    "    l_client_id.append(i[5])\n",
    "    \n",
    "leads = pd.DataFrame(list(zip(lead_id, created_at, d_utm_medium, d_utm_source, l_manager_id, l_client_id)),columns=[ \n",
    "                                                leads_['values'][0][0],\n",
    "                                                leads_['values'][0][1],\n",
    "                                                leads_['values'][0][2],\n",
    "                                                leads_['values'][0][3],\n",
    "                                                leads_['values'][0][4],\n",
    "                                                leads_['values'][0][5]])"
   ]
  },
  {
   "cell_type": "code",
   "execution_count": 57,
   "metadata": {},
   "outputs": [],
   "source": [
    "# поправим источники\n",
    "leads['d_utm_source'] = leads['d_utm_source'].replace('vk', 'vkontakte')\n",
    "leads['d_utm_source'] = leads['d_utm_source'].replace('ycard#!/tproduct/225696739-1498486363994', 'ycard')\n",
    "leads['d_utm_source'] = leads['d_utm_source'].replace('ig', 'instagram')\n",
    "leads['d_utm_source'] = leads['d_utm_source'].replace('insta', 'instagram')\n",
    "leads['d_utm_source'] = leads['d_utm_source'].replace('', 'unknown')\n",
    "leads['d_utm_source'] = leads['d_utm_source'].replace('utm_source', 'unknown')\n",
    "\n",
    "# поправим форматы\n",
    "leads['created_at'] = pd.to_datetime(leads['created_at']).dt.normalize()\n",
    "transactions['created_at'] = pd.to_datetime(transactions['created_at']).dt.normalize() \n",
    "transactions['m_real_amount'] = transactions['m_real_amount'].astype(int)"
   ]
  },
  {
   "cell_type": "code",
   "execution_count": 58,
   "metadata": {},
   "outputs": [],
   "source": [
    "# забираем инфу о менеджерах\n",
    "leads_ = leads.merge(managers, how='inner', left_on='l_manager_id', right_on='manager_id')"
   ]
  },
  {
   "cell_type": "code",
   "execution_count": 59,
   "metadata": {},
   "outputs": [],
   "source": [
    "# количество заявок\n",
    "all_leads = leads_.groupby(['d_club', 'd_manager', 'd_utm_source', 'created_at'])['lead_id'].count().reset_index()"
   ]
  },
  {
   "cell_type": "code",
   "execution_count": 60,
   "metadata": {},
   "outputs": [],
   "source": [
    "# количество мусорных заявок\n",
    "garbage_leads = leads_.query('l_client_id == \"00000000-0000-0000-0000-000000000000\"')\\\n",
    "                      .groupby(['d_club', 'd_manager', 'd_utm_source', 'created_at'])['lead_id'].count().reset_index()"
   ]
  },
  {
   "cell_type": "code",
   "execution_count": 61,
   "metadata": {},
   "outputs": [],
   "source": [
    "# клиенты у которых одна заявка\n",
    "only_one_lead = leads_.query('l_client_id != \"00000000-0000-0000-0000-000000000000\"')\\\n",
    "                      .groupby('l_client_id').agg({'lead_id': 'count', 'created_at': 'min'})\\\n",
    "                      .reset_index()\\\n",
    "                      .query('lead_id == 1')\n",
    "\n",
    "# клиенты с одной заявкой, у которых оплата в день заявки или позднее\n",
    "only_one_lead_clean = transactions[['l_client_id', 'created_at']]\\\n",
    "                     .merge(only_one_lead[['l_client_id', 'created_at']], \n",
    "                            how='inner', \n",
    "                            on='l_client_id', \n",
    "                            suffixes=('_transaction', '_lead'))\\\n",
    "                     .query('created_at_transaction >= created_at_lead')\n",
    "\n",
    "# количество новых заявок\n",
    "new_leads = leads_[leads_['l_client_id'].isin(only_one_lead_clean['l_client_id'])]\\\n",
    "            .groupby(['d_club', 'd_manager', 'd_utm_source', 'created_at'])['lead_id'].count().reset_index()"
   ]
  },
  {
   "cell_type": "code",
   "execution_count": 62,
   "metadata": {},
   "outputs": [],
   "source": [
    "# собираем все заяявки вместе\n",
    "final_leads = all_leads.merge(new_leads, on=['d_club', 'd_manager', 'd_utm_source', 'created_at'], how='left')\\\n",
    "                       .merge(garbage_leads, on=['d_club', 'd_manager', 'd_utm_source', 'created_at'], how='left')\\\n",
    "                       .fillna(0)\\\n",
    "                       .rename(columns = {'lead_id_x': 'all_leads', 'lead_id_y': 'new_leads', 'lead_id': 'garbage_leads'})"
   ]
  },
  {
   "cell_type": "code",
   "execution_count": 63,
   "metadata": {},
   "outputs": [],
   "source": [
    "# отрежем возвраты\n",
    "transactions = transactions.query('m_real_amount > 0')"
   ]
  },
  {
   "cell_type": "code",
   "execution_count": 64,
   "metadata": {},
   "outputs": [],
   "source": [
    "'''\n",
    "сгруппируемся и найдем первую дату оплаты, при сумиировании денег тут полагаем, \n",
    "что более поздние покупки в другую дату в рамках одной транзакции считаются как одна единая покупка\n",
    "'''\n",
    "\n",
    "transactions = transactions.groupby(['transaction_id', 'l_client_id'])\\\n",
    "                           .agg({'created_at': 'min', 'm_real_amount': 'sum'})\\\n",
    "                           .reset_index()"
   ]
  },
  {
   "cell_type": "code",
   "execution_count": 65,
   "metadata": {},
   "outputs": [],
   "source": [
    "# дата первой покупки\n",
    "first_pay = transactions.groupby('l_client_id')['created_at'].min()\\\n",
    "                        .reset_index().rename(columns={'created_at': 'first_pay'})"
   ]
  },
  {
   "cell_type": "code",
   "execution_count": 66,
   "metadata": {},
   "outputs": [],
   "source": [
    "# количество покупок\n",
    "purchase_cnt = transactions.groupby('l_client_id')['transaction_id'].nunique()\\\n",
    "                           .reset_index().rename(columns={'transaction_id': 'purchase_cnt'})"
   ]
  },
  {
   "cell_type": "code",
   "execution_count": 67,
   "metadata": {},
   "outputs": [],
   "source": [
    "# добавим дату первой покупки \n",
    "transactions_fp = transactions.merge(first_pay, on='l_client_id', how='inner')\\\n",
    "                              .merge(purchase_cnt, on='l_client_id', how='inner')"
   ]
  },
  {
   "cell_type": "code",
   "execution_count": 68,
   "metadata": {},
   "outputs": [],
   "source": [
    "# соединяем транзакции и заявки\n",
    "tran_lead = transactions_fp.merge(clients, left_on='l_client_id', right_on='client_id', how='inner', suffixes=('_transaction', '_client'))\\\n",
    "            .merge(managers,left_on='l_manager_id', right_on='manager_id', how='inner', suffixes=('_transaction', '_client'))\\\n",
    "            .drop(['client_id', 'manager_id'], axis = 1)\\\n",
    "            .merge(leads, on=['l_client_id', 'l_manager_id'], how='inner')"
   ]
  },
  {
   "cell_type": "code",
   "execution_count": 69,
   "metadata": {
    "scrolled": true
   },
   "outputs": [],
   "source": [
    "# считаем дельту между датой заявки и транзакцией\n",
    "tran_lead['delta'] = (tran_lead['created_at_transaction'] - tran_lead['created_at']).dt.days"
   ]
  },
  {
   "cell_type": "code",
   "execution_count": 70,
   "metadata": {},
   "outputs": [],
   "source": [
    "# количество покупателей\n",
    "buyers = tran_lead.query('delta >= 0 & delta < 8')\\\n",
    "        .groupby(['d_club', 'd_manager', 'd_utm_source', 'created_at_transaction'])['l_client_id'].nunique().reset_index()"
   ]
  },
  {
   "cell_type": "code",
   "execution_count": 71,
   "metadata": {},
   "outputs": [
    {
     "data": {
      "text/plain": [
       "'\\nусловия delta >= 0 & delta < 8 & created_at_transaction == first_pay отлавливает случаи, когда транзакции \\nклиента соответствуют условиям: \"купил в течение недели после заявки\" и \"не покупал раньше\". \\n\\nОднако есть случаи, когда эти условия соблюдаются и при этом есть более позняя покупка, что делает клиента не новым.\\nПоэтому добавляем - purchase_cnt == 1.\\n\\nЧтобы посмотреть примеры, можно убрать условие и поискать на вкладке \"transactions\" по l_client_id там, где purchase_cnt > 1\\ntran_lead.query(\\'delta >= 0 & delta < 8 & created_at_transaction == first_pay & purchase_cnt > 1\\')\\n'"
      ]
     },
     "execution_count": 71,
     "metadata": {},
     "output_type": "execute_result"
    }
   ],
   "source": [
    "# количество новых покупателей\n",
    "\n",
    "new_buyers = tran_lead.query('delta >= 0 & delta < 8 & created_at_transaction == first_pay & purchase_cnt == 1')\\\n",
    "            .groupby(['d_club', 'd_manager', 'd_utm_source', 'created_at_transaction'])['l_client_id'].nunique().reset_index()\n",
    "\n",
    "'''\n",
    "условия delta >= 0 & delta < 8 & created_at_transaction == first_pay отлавливает случаи, когда транзакции \n",
    "клиента соответствуют условиям: \"купил в течение недели после заявки\" и \"не покупал раньше\". \n",
    "\n",
    "Однако есть случаи, когда эти условия соблюдаются и при этом есть более позняя покупка, что делает клиента не новым.\n",
    "Поэтому добавляем - purchase_cnt == 1.\n",
    "\n",
    "Чтобы посмотреть примеры, можно убрать условие и поискать на вкладке \"transactions\" по l_client_id там, где purchase_cnt > 1\n",
    "tran_lead.query('delta >= 0 & delta < 8 & created_at_transaction == first_pay & purchase_cnt > 1')\n",
    "'''"
   ]
  },
  {
   "cell_type": "code",
   "execution_count": 72,
   "metadata": {
    "scrolled": true
   },
   "outputs": [
    {
     "data": {
      "text/plain": [
       "'\\nПо некоторым клиентам(при соблюдении всех условий) неизбежно дубляться суммы из-за нескольких заявок в один день \\nиз разных источников(или одного)\\n\\n36184d79-273e-11eb-ac1d-c412f533dba1\\n1a32cba7-d5a2-11e9-abbe-c412f533dba1\\n402cbf93-1db5-11eb-ac1d-c412f533dba1\\n7a5ed477-21a7-11eb-ac1d-c412f533dba1\\n9ac01dce-1d34-11eb-ac1d-c412f533dba1\\n2afc8bc6-1d34-11eb-ac1d-c412f533dba1\\n2483aa90-177a-11eb-ac1d-c412f533dba1\\n1da0523f-d5b5-11e9-abbe-c412f533dba1\\n\\n'"
      ]
     },
     "execution_count": 72,
     "metadata": {},
     "output_type": "execute_result"
    }
   ],
   "source": [
    "\n",
    "'''\n",
    "По некоторым клиентам(при соблюдении всех условий) неизбежно дубляться суммы из-за нескольких заявок в один день \n",
    "из разных источников(или одного)\n",
    "\n",
    "36184d79-273e-11eb-ac1d-c412f533dba1\n",
    "1a32cba7-d5a2-11e9-abbe-c412f533dba1\n",
    "402cbf93-1db5-11eb-ac1d-c412f533dba1\n",
    "7a5ed477-21a7-11eb-ac1d-c412f533dba1\n",
    "9ac01dce-1d34-11eb-ac1d-c412f533dba1\n",
    "2afc8bc6-1d34-11eb-ac1d-c412f533dba1\n",
    "2483aa90-177a-11eb-ac1d-c412f533dba1\n",
    "1da0523f-d5b5-11e9-abbe-c412f533dba1\n",
    "\n",
    "'''"
   ]
  },
  {
   "cell_type": "code",
   "execution_count": 73,
   "metadata": {},
   "outputs": [],
   "source": [
    "# телодвижения ниже направлены на исключение раздуплившихся сумм\n",
    "inc_buyers = tran_lead.query('delta >= 0 & delta < 8 & created_at_transaction == first_pay & purchase_cnt == 1')\\\n",
    "                      .drop(['lead_id', 'created_at', 'd_utm_medium', 'delta'], axis = 1).drop_duplicates()\n",
    "\n",
    "# жертвуем точностью определения канала привлечения в пользу корректности сумм\n",
    "inc_buyers = inc_buyers.groupby(['transaction_id', 'created_at_transaction', 'm_real_amount',\n",
    "       'l_client_id', 'first_pay', 'purchase_cnt', 'created_at_client',\n",
    "       'l_manager_id', 'd_manager', 'd_club'])['d_utm_source'].min().reset_index()"
   ]
  },
  {
   "cell_type": "code",
   "execution_count": 74,
   "metadata": {},
   "outputs": [],
   "source": [
    "# доход от покупок новых покупателей\n",
    "income_buyers = inc_buyers.groupby(['d_club', 'd_manager', 'd_utm_source', 'created_at_transaction'])['m_real_amount'].sum().reset_index()"
   ]
  },
  {
   "cell_type": "code",
   "execution_count": 75,
   "metadata": {},
   "outputs": [],
   "source": [
    "# собираем все транзакции вместе\n",
    "final_buyers = buyers.merge(new_buyers, on=['d_club', 'd_manager', 'd_utm_source', 'created_at_transaction'], how='left')\\\n",
    "        .merge(income_buyers, on=['d_club', 'd_manager', 'd_utm_source', 'created_at_transaction'], how='left')\\\n",
    "        .fillna(0)\\\n",
    "        .rename(columns = {'l_client_id_x': 'buyers', 'l_client_id_y': 'new_buyers', 'created_at_transaction': 'created_at'})"
   ]
  },
  {
   "cell_type": "code",
   "execution_count": 76,
   "metadata": {},
   "outputs": [],
   "source": [
    "# соберем все данные в один фрейм\n",
    "final = final_leads.merge(final_buyers, on=['d_club', 'd_manager', 'd_utm_source', 'created_at'], how='outer')\\\n",
    "                   .fillna(0)"
   ]
  },
  {
   "cell_type": "code",
   "execution_count": 77,
   "metadata": {},
   "outputs": [],
   "source": [
    "#поправим формат, который слетел при соединении\n",
    "final['all_leads'] = final['all_leads'].astype(int)\n",
    "final['new_leads'] = final['new_leads'].astype(int)\n",
    "final['garbage_leads'] = final['garbage_leads'].astype(int)\n",
    "final['garbage_leads'] = final['garbage_leads'].astype(int)\n",
    "final['buyers'] = final['buyers'].astype(int)\n",
    "final['new_buyers'] = final['new_buyers'].astype(int)\n",
    "\n",
    "# поменяем формат у даты, т.к. JSON не принимает datetime\n",
    "final['created_at'] = final['created_at'].astype(str)\n",
    "\n",
    "# переименуем заголовки\n",
    "final.rename(columns={\n",
    "    'd_club': 'клуб',\n",
    "    'd_manager': 'менеджер',\n",
    "    'd_utm_source': 'канал привлечения',\n",
    "    'created_at': 'дата',\n",
    "    'all_leads': 'количество заявок',\n",
    "    'new_leads': 'количество новых заявок',\n",
    "    'garbage_leads': 'количество мусорных заявок',\n",
    "    'buyers': 'количество покупателей',\n",
    "    'new_buyers': 'количество новых покупателей',\n",
    "    'm_real_amount': 'доход от покупок новых покупателей',\n",
    "}, inplace=True)"
   ]
  },
  {
   "cell_type": "code",
   "execution_count": 78,
   "metadata": {},
   "outputs": [],
   "source": [
    "spreadsheet = service.spreadsheets().create(body = {\n",
    "    'properties': {'title': 'XO', 'locale': 'ru_RU'},\n",
    "    'sheets': [{'properties': {'sheetType': 'GRID',\n",
    "                               'sheetId': 0,\n",
    "                               'title': '1',\n",
    "                              }}]\n",
    "}).execute()"
   ]
  },
  {
   "cell_type": "code",
   "execution_count": 79,
   "metadata": {
    "scrolled": false
   },
   "outputs": [],
   "source": [
    "# spreadsheet"
   ]
  },
  {
   "cell_type": "code",
   "execution_count": 80,
   "metadata": {},
   "outputs": [],
   "source": [
    "# доступ к документу\n",
    "driveService = apiclient.discovery.build('drive', 'v3', http = httpAuth)\n",
    "shareRes = driveService.permissions().create(\n",
    "    fileId = spreadsheet['spreadsheetId'],\n",
    "    body = {'type': 'anyone', 'role': 'writer'},  \n",
    "    fields = 'id'\n",
    ").execute()"
   ]
  },
  {
   "cell_type": "code",
   "execution_count": 81,
   "metadata": {},
   "outputs": [],
   "source": [
    "#записываем данные в гуглодок\n",
    "results = service.spreadsheets().values().batchUpdate(spreadsheetId = spreadsheet['spreadsheetId'], body = {\n",
    "    \"valueInputOption\": \"USER_ENTERED\",\n",
    "    \"data\": [\n",
    "        {\"range\": \"1!A:J\",\n",
    "         \"majorDimension\": \"ROWS\",     # сначала заполнять ряды, затем столбцы (т.е. самые внутренние списки в values - это ряды)\n",
    "         \"values\": final.T.reset_index().values.T.tolist()}\n",
    "\n",
    "       \n",
    "    ]\n",
    "}).execute()"
   ]
  }
 ],
 "metadata": {
  "hide_input": false,
  "kernelspec": {
   "display_name": "Python 3",
   "language": "python",
   "name": "python3"
  },
  "language_info": {
   "codemirror_mode": {
    "name": "ipython",
    "version": 3
   },
   "file_extension": ".py",
   "mimetype": "text/x-python",
   "name": "python",
   "nbconvert_exporter": "python",
   "pygments_lexer": "ipython3",
   "version": "3.7.6"
  }
 },
 "nbformat": 4,
 "nbformat_minor": 4
}
